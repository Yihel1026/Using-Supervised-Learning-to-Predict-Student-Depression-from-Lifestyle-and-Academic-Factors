{
  "nbformat": 4,
  "nbformat_minor": 0,
  "metadata": {
    "colab": {
      "provenance": []
    },
    "kernelspec": {
      "name": "python3",
      "display_name": "Python 3"
    },
    "language_info": {
      "name": "python"
    }
  },
  "cells": [
    {
      "cell_type": "code",
      "source": [
        "import pandas as pd\n",
        "import numpy as np\n",
        "from sklearn.model_selection import train_test_split\n",
        "from sklearn.preprocessing import LabelEncoder\n",
        "from sklearn.ensemble import RandomForestClassifier\n",
        "from sklearn.metrics import classification_report, confusion_matrix"
      ],
      "metadata": {
        "id": "XyZcfwQ-WiLm"
      },
      "execution_count": 37,
      "outputs": []
    },
    {
      "cell_type": "code",
      "source": [
        "df = pd.read_csv('student_depression_dataset.csv')\n",
        "df.replace('?', np.nan, inplace=True)\n",
        "df = df.dropna(subset=['Depression'])\n",
        "\n",
        "categorical_cols = df.select_dtypes(include='object').columns\n",
        "for col in categorical_cols:\n",
        "    df[col] = df[col].fillna(df[col].mode()[0])\n",
        "\n",
        "sleep_mapping = {\n",
        "    'Less than 5 hours': 0,\n",
        "    '5-6 hours': 1,\n",
        "    '7-8 hours': 2,\n",
        "    'More than 8 hours': 3\n",
        "}\n",
        "df['Sleep Duration'] = df['Sleep Duration'].map(sleep_mapping)\n",
        "\n",
        "label_cols = ['Gender', 'City', 'Profession', 'Study Satisfaction', 'Job Satisfaction',\n",
        "              'Dietary Habits', 'Degree', 'Have you ever had suicidal thoughts ?',\n",
        "              'Family History of Mental Illness', 'Depression']\n",
        "\n",
        "le = LabelEncoder()\n",
        "for col in label_cols:\n",
        "    df[col] = le.fit_transform(df[col])\n",
        "\n",
        "df['Sleep Duration'] = le.fit_transform(df['Sleep Duration'])\n",
        "\n",
        "feature_cols = [col for col in df.columns if col != 'Depression']\n",
        "X = df[feature_cols]\n",
        "y = df['Depression']\n",
        "\n",
        "X_train, X_test, y_train, y_test = train_test_split(X, y, test_size=0.2, random_state=42)\n",
        "model = RandomForestClassifier(random_state=42)\n",
        "model.fit(X_train, y_train)\n",
        "y_pred = model.predict(X_test)\n",
        "\n",
        "print(\"Classification Report:\\n\", classification_report(y_test, y_pred))\n",
        "print(\"Confusion Matrix:\\n\", confusion_matrix(y_test, y_pred))"
      ],
      "metadata": {
        "colab": {
          "base_uri": "https://localhost:8080/"
        },
        "id": "jYMp3a3lUsMN",
        "outputId": "26fb0c92-d672-4f49-dd04-3f0b98990e1c"
      },
      "execution_count": 38,
      "outputs": [
        {
          "output_type": "stream",
          "name": "stdout",
          "text": [
            "Classification Report:\n",
            "               precision    recall  f1-score   support\n",
            "\n",
            "           0       0.81      0.78      0.79      2343\n",
            "           1       0.85      0.86      0.85      3238\n",
            "\n",
            "    accuracy                           0.83      5581\n",
            "   macro avg       0.83      0.82      0.82      5581\n",
            "weighted avg       0.83      0.83      0.83      5581\n",
            "\n",
            "Confusion Matrix:\n",
            " [[1832  511]\n",
            " [ 441 2797]]\n"
          ]
        }
      ]
    },
    {
      "cell_type": "code",
      "source": [
        "import seaborn as sns\n",
        "import matplotlib.pyplot as plt\n",
        "from sklearn.metrics import confusion_matrix\n",
        "\n",
        "sns.heatmap(confusion_matrix(y_test, y_pred), annot=True, fmt='d', cmap='Blues')\n",
        "plt.xlabel(\"Predicted\")\n",
        "plt.ylabel(\"Actual\")\n",
        "plt.title(\"Confusion Matrix\")\n",
        "plt.show()\n"
      ],
      "metadata": {
        "colab": {
          "base_uri": "https://localhost:8080/",
          "height": 472
        },
        "id": "nLxQQHdYWbBU",
        "outputId": "778f16ee-8ec9-41d4-dcf3-19050f71a031"
      },
      "execution_count": 39,
      "outputs": [
        {
          "output_type": "display_data",
          "data": {
            "text/plain": [
              "<Figure size 640x480 with 2 Axes>"
            ],
            "image/png": "[encoded data removed]"
          },
          "metadata": {}
        }
      ]
    },
    {
      "cell_type": "code",
      "source": [
        "misclassified = X_test[y_test != y_pred]\n",
        "misclassified['Actual'] = y_test[y_test != y_pred]\n",
        "misclassified['Predicted'] = y_pred[y_test != y_pred]\n",
        "print(\"\\n5 Misclassified Samples:\")\n",
        "print(misclassified.head(5))"
      ],
      "metadata": {
        "colab": {
          "base_uri": "https://localhost:8080/"
        },
        "id": "uVWpDtHoW41z",
        "outputId": "844ac8c5-f8a1-4657-9f3a-36d0d3082bf5"
      },
      "execution_count": 40,
      "outputs": [
        {
          "output_type": "stream",
          "name": "stdout",
          "text": [
            "\n",
            "5 Misclassified Samples:\n",
            "           id  Gender   Age  City  Profession  Academic Pressure  \\\n",
            "15759   79662       1  25.0    51          12                5.0   \n",
            "26237  132248       0  24.0    50          12                2.0   \n",
            "4140    20721       0  19.0    48          12                5.0   \n",
            "27806  140153       0  30.0    37          12                3.0   \n",
            "27362  137943       0  24.0    18          12                2.0   \n",
            "\n",
            "       Work Pressure  CGPA  Study Satisfaction  Job Satisfaction  \\\n",
            "15759            0.0  7.87                   2                 0   \n",
            "26237            0.0  7.08                   2                 0   \n",
            "4140             0.0  7.24                   3                 0   \n",
            "27806            0.0  9.04                   5                 0   \n",
            "27362            0.0  8.08                   1                 0   \n",
            "\n",
            "       Sleep Duration  Dietary Habits  Degree  \\\n",
            "15759               0               0       3   \n",
            "26237               0               0       1   \n",
            "4140                0               0       0   \n",
            "27806               0               0      11   \n",
            "27362               0               1       1   \n",
            "\n",
            "       Have you ever had suicidal thoughts ?  Work/Study Hours  \\\n",
            "15759                                      0               0.0   \n",
            "26237                                      1              12.0   \n",
            "4140                                       0               7.0   \n",
            "27806                                      0              10.0   \n",
            "27362                                      0               8.0   \n",
            "\n",
            "      Financial Stress  Family History of Mental Illness  Actual  Predicted  \n",
            "15759              3.0                                 0       1          0  \n",
            "26237              1.0                                 1       1          0  \n",
            "4140               4.0                                 1       0          1  \n",
            "27806              4.0                                 1       1          0  \n",
            "27362              4.0                                 1       1          0  \n"
          ]
        },
        {
          "output_type": "stream",
          "name": "stderr",
          "text": [
            "<ipython-input-40-051c1bef0dd0>:2: SettingWithCopyWarning: \n",
            "A value is trying to be set on a copy of a slice from a DataFrame.\n",
            "Try using .loc[row_indexer,col_indexer] = value instead\n",
            "\n",
            "See the caveats in the documentation: https://pandas.pydata.org/pandas-docs/stable/user_guide/indexing.html#returning-a-view-versus-a-copy\n",
            "  misclassified['Actual'] = y_test[y_test != y_pred]\n",
            "<ipython-input-40-051c1bef0dd0>:3: SettingWithCopyWarning: \n",
            "A value is trying to be set on a copy of a slice from a DataFrame.\n",
            "Try using .loc[row_indexer,col_indexer] = value instead\n",
            "\n",
            "See the caveats in the documentation: https://pandas.pydata.org/pandas-docs/stable/user_guide/indexing.html#returning-a-view-versus-a-copy\n",
            "  misclassified['Predicted'] = y_pred[y_test != y_pred]\n"
          ]
        }
      ]
    }
  ]
}